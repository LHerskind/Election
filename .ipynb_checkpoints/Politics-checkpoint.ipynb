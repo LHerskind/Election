{
 "cells": [
  {
   "cell_type": "code",
   "execution_count": 196,
   "metadata": {
    "collapsed": true
   },
   "outputs": [],
   "source": [
    "import urllib.request, json \n",
    "import pickle\n",
    "import pandas as pd\n",
    "import numpy as np\n",
    "import re"
   ]
  },
  {
   "cell_type": "code",
   "execution_count": 2,
   "metadata": {
    "collapsed": true
   },
   "outputs": [],
   "source": [
    "def get_json(_url):\n",
    "    with urllib.request.urlopen(_url) as url:\n",
    "        data = json.loads(url.read().decode())\n",
    "        return data"
   ]
  },
  {
   "cell_type": "code",
   "execution_count": 3,
   "metadata": {
    "collapsed": true
   },
   "outputs": [],
   "source": [
    "def get_votes(_afstemnings_id):\n",
    "    a = get_json(\"https://oda.ft.dk/api/Afstemning(\"+str(_afstemnings_id)+\")/Stemme?$inlinecount=allpages\")\n",
    "    if a[\"odata.nextLink\"]:\n",
    "        b = get_json(a[\"odata.nextLink\"])\n",
    "        for stemme in b[\"value\"]:\n",
    "            a[\"value\"].append(stemme)\n",
    "    return a"
   ]
  },
  {
   "cell_type": "code",
   "execution_count": 223,
   "metadata": {
    "collapsed": true
   },
   "outputs": [],
   "source": [
    "def get_actor(_actor_id):\n",
    "    data = get_json(\"https://oda.ft.dk/api/Akt%C3%B8r(\"+str(_actor_id)+\")\")\n",
    "    name = data[\"navn\"]\n",
    "    biografi = data[\"biografi\"]\n",
    "    party = None\n",
    "    if not(biografi is None):\n",
    "        res = re.findall(\"<party>(.*)<\\/party>\", biografi)\n",
    "        if(len(res) > 0):\n",
    "            party = res[0]\n",
    "    return {\"name\": name, \"party\": party}    "
   ]
  },
  {
   "cell_type": "code",
   "execution_count": 5,
   "metadata": {
    "collapsed": true
   },
   "outputs": [],
   "source": [
    "afstemninger = {}\n",
    "actors = {}"
   ]
  },
  {
   "cell_type": "code",
   "execution_count": 6,
   "metadata": {
    "collapsed": true
   },
   "outputs": [],
   "source": [
    "def get_cleaned_votes(_afstemning):\n",
    "    if _afstemning in afstemninger:\n",
    "        return afstemninger[_afstemning]\n",
    "    votes = [\"for\", \"imod\", \"fraværende\"]\n",
    "    ugly_votes = get_votes(_afstemning)\n",
    "    cleaned_votes = []\n",
    "    for stemme in ugly_votes[\"value\"]:\n",
    "        aktørid = stemme[\"aktørid\"]\n",
    "        if not(aktørid in actors):\n",
    "            actors[aktørid] = get_actor(aktørid)\n",
    "        cleaned_votes.append({\"vote\": stemme[\"typeid\"], \"actor\": actors[aktørid][\"name\"]})\n",
    "    return cleaned_votes"
   ]
  },
  {
   "cell_type": "code",
   "execution_count": 7,
   "metadata": {
    "collapsed": true
   },
   "outputs": [],
   "source": [
    "def load_data_day(year, month, day):\n",
    "    long_url = \"https://oda.ft.dk/api/Afstemning?$inlinecount=allpages&$filter=year(opdateringsdato)%20eq%20\"+str(year) + \"%20and%20month(opdateringsdato)%20eq%20\"+str(month)+\"%20and%20day(opdateringsdato)%20eq%20\"+str(day)\n",
    "    votes_today = get_json(long_url)\n",
    "    \n",
    "    for afstemning in votes_today[\"value\"]:\n",
    "        afstemnings_id = afstemning[\"id\"]\n",
    "        if afstemnings_id in afstemninger:\n",
    "            continue\n",
    "        afstemninger[afstemnings_id] = {\"votes\": get_cleaned_votes(afstemnings_id), \"nummer\": afstemning[\"nummer\"]}"
   ]
  },
  {
   "cell_type": "code",
   "execution_count": 20,
   "metadata": {
    "collapsed": true
   },
   "outputs": [],
   "source": [
    "def load_data():\n",
    "    for month in range(1, 6):\n",
    "        print(\".\", end=\"\")\n",
    "        for day in range(1, 32):\n",
    "            load_data_day(2019, month, day)"
   ]
  },
  {
   "cell_type": "code",
   "execution_count": 21,
   "metadata": {
    "collapsed": false
   },
   "outputs": [
    {
     "name": "stdout",
     "output_type": "stream",
     "text": [
      "....."
     ]
    }
   ],
   "source": [
    "load_data()"
   ]
  },
  {
   "cell_type": "code",
   "execution_count": 233,
   "metadata": {
    "collapsed": false
   },
   "outputs": [],
   "source": [
    "if False:\n",
    "    df = pd.DataFrame(index=[\"name\"], columns=[\"id\", \"party\"])\n",
    "    for a_id in actors:\n",
    "        df.loc[actors[a_id][\"name\"]] = [a_id, actors[a_id][\"party\"]]\n",
    "\n",
    "    for a_id in afstemninger:\n",
    "        print(\".\", end=\"\")\n",
    "        df[a_id] = 0\n",
    "        for stemme in afstemninger[a_id][\"votes\"]:\n",
    "            df.loc[stemme[\"actor\"], a_id] = stemme[\"vote\"]"
   ]
  },
  {
   "cell_type": "markdown",
   "metadata": {},
   "source": [
    "### Load"
   ]
  },
  {
   "cell_type": "code",
   "execution_count": 229,
   "metadata": {
    "collapsed": false
   },
   "outputs": [
    {
     "name": "stdout",
     "output_type": "stream",
     "text": [
      "486\n",
      "1482\n"
     ]
    }
   ],
   "source": [
    "print(len(actors))\n",
    "print(len(afstemninger))"
   ]
  },
  {
   "cell_type": "code",
   "execution_count": 228,
   "metadata": {
    "collapsed": true
   },
   "outputs": [],
   "source": [
    "actors = pickle.load(open(\"actors.p\", \"rb\"))\n",
    "afstemninger = pickle.load(open(\"afstemninger.p\", \"rb\"))\n",
    "df = pickle.load(open(\"data_frame.p\", \"rb\"))"
   ]
  },
  {
   "cell_type": "markdown",
   "metadata": {},
   "source": [
    "### Save"
   ]
  },
  {
   "cell_type": "code",
   "execution_count": 232,
   "metadata": {
    "collapsed": true
   },
   "outputs": [],
   "source": [
    "pickle.dump(actors, open(\"actors.p\", \"wb\"))\n",
    "pickle.dump(afstemninger, open(\"afstemninger.p\", \"wb\"))\n",
    "pickle.dump(df, open(\"data_frame.p\", \"wb\"))"
   ]
  },
  {
   "cell_type": "code",
   "execution_count": null,
   "metadata": {
    "collapsed": true
   },
   "outputs": [],
   "source": []
  },
  {
   "cell_type": "markdown",
   "metadata": {},
   "source": [
    "# The fun begins\n",
    "Remember that the votes can be one of 4:\n",
    "1. Vote for\n",
    "2. Vote against\n",
    "3. Do not care\n",
    "4. Not there"
   ]
  },
  {
   "cell_type": "code",
   "execution_count": 292,
   "metadata": {
    "collapsed": true
   },
   "outputs": [],
   "source": [
    "from sklearn.preprocessing import StandardScaler\n",
    "from sklearn.decomposition import PCA\n",
    "import matplotlib.pyplot as plt"
   ]
  },
  {
   "cell_type": "code",
   "execution_count": 337,
   "metadata": {
    "collapsed": false
   },
   "outputs": [
    {
     "data": {
      "text/html": [
       "<div>\n",
       "<style scoped>\n",
       "    .dataframe tbody tr th:only-of-type {\n",
       "        vertical-align: middle;\n",
       "    }\n",
       "\n",
       "    .dataframe tbody tr th {\n",
       "        vertical-align: top;\n",
       "    }\n",
       "\n",
       "    .dataframe thead th {\n",
       "        text-align: right;\n",
       "    }\n",
       "</style>\n",
       "<table border=\"1\" class=\"dataframe\">\n",
       "  <thead>\n",
       "    <tr style=\"text-align: right;\">\n",
       "      <th></th>\n",
       "      <th>id</th>\n",
       "      <th>party</th>\n",
       "      <th>3913</th>\n",
       "      <th>3914</th>\n",
       "      <th>3915</th>\n",
       "      <th>3918</th>\n",
       "      <th>3919</th>\n",
       "      <th>3920</th>\n",
       "      <th>3921</th>\n",
       "      <th>3916</th>\n",
       "      <th>...</th>\n",
       "      <th>7144</th>\n",
       "      <th>7145</th>\n",
       "      <th>7146</th>\n",
       "      <th>7147</th>\n",
       "      <th>7148</th>\n",
       "      <th>7149</th>\n",
       "      <th>7150</th>\n",
       "      <th>7151</th>\n",
       "      <th>7152</th>\n",
       "      <th>7153</th>\n",
       "    </tr>\n",
       "  </thead>\n",
       "  <tbody>\n",
       "    <tr>\n",
       "      <th>name</th>\n",
       "      <td>NaN</td>\n",
       "      <td>NaN</td>\n",
       "      <td>0</td>\n",
       "      <td>0</td>\n",
       "      <td>0</td>\n",
       "      <td>0</td>\n",
       "      <td>0</td>\n",
       "      <td>0</td>\n",
       "      <td>0</td>\n",
       "      <td>0</td>\n",
       "      <td>...</td>\n",
       "      <td>0</td>\n",
       "      <td>0</td>\n",
       "      <td>0</td>\n",
       "      <td>0</td>\n",
       "      <td>0</td>\n",
       "      <td>0</td>\n",
       "      <td>0</td>\n",
       "      <td>0</td>\n",
       "      <td>0</td>\n",
       "      <td>0</td>\n",
       "    </tr>\n",
       "    <tr>\n",
       "      <th>Pia Adelsteen</th>\n",
       "      <td>221</td>\n",
       "      <td>Dansk Folkeparti</td>\n",
       "      <td>1</td>\n",
       "      <td>3</td>\n",
       "      <td>1</td>\n",
       "      <td>1</td>\n",
       "      <td>1</td>\n",
       "      <td>1</td>\n",
       "      <td>2</td>\n",
       "      <td>2</td>\n",
       "      <td>...</td>\n",
       "      <td>3</td>\n",
       "      <td>3</td>\n",
       "      <td>3</td>\n",
       "      <td>3</td>\n",
       "      <td>3</td>\n",
       "      <td>3</td>\n",
       "      <td>3</td>\n",
       "      <td>1</td>\n",
       "      <td>1</td>\n",
       "      <td>1</td>\n",
       "    </tr>\n",
       "    <tr>\n",
       "      <th>Yildiz Akdogan</th>\n",
       "      <td>1619</td>\n",
       "      <td>Socialdemokratiet</td>\n",
       "      <td>1</td>\n",
       "      <td>3</td>\n",
       "      <td>2</td>\n",
       "      <td>1</td>\n",
       "      <td>1</td>\n",
       "      <td>1</td>\n",
       "      <td>1</td>\n",
       "      <td>1</td>\n",
       "      <td>...</td>\n",
       "      <td>1</td>\n",
       "      <td>1</td>\n",
       "      <td>1</td>\n",
       "      <td>1</td>\n",
       "      <td>1</td>\n",
       "      <td>2</td>\n",
       "      <td>2</td>\n",
       "      <td>2</td>\n",
       "      <td>1</td>\n",
       "      <td>4</td>\n",
       "    </tr>\n",
       "    <tr>\n",
       "      <th>Ida Auken</th>\n",
       "      <td>152</td>\n",
       "      <td>Radikale Venstre</td>\n",
       "      <td>1</td>\n",
       "      <td>3</td>\n",
       "      <td>4</td>\n",
       "      <td>3</td>\n",
       "      <td>3</td>\n",
       "      <td>3</td>\n",
       "      <td>3</td>\n",
       "      <td>4</td>\n",
       "      <td>...</td>\n",
       "      <td>1</td>\n",
       "      <td>1</td>\n",
       "      <td>1</td>\n",
       "      <td>1</td>\n",
       "      <td>1</td>\n",
       "      <td>1</td>\n",
       "      <td>1</td>\n",
       "      <td>2</td>\n",
       "      <td>4</td>\n",
       "      <td>4</td>\n",
       "    </tr>\n",
       "    <tr>\n",
       "      <th>Liselott Blixt</th>\n",
       "      <td>50</td>\n",
       "      <td>Dansk Folkeparti</td>\n",
       "      <td>1</td>\n",
       "      <td>3</td>\n",
       "      <td>1</td>\n",
       "      <td>1</td>\n",
       "      <td>1</td>\n",
       "      <td>1</td>\n",
       "      <td>2</td>\n",
       "      <td>2</td>\n",
       "      <td>...</td>\n",
       "      <td>3</td>\n",
       "      <td>3</td>\n",
       "      <td>3</td>\n",
       "      <td>3</td>\n",
       "      <td>3</td>\n",
       "      <td>3</td>\n",
       "      <td>3</td>\n",
       "      <td>1</td>\n",
       "      <td>1</td>\n",
       "      <td>1</td>\n",
       "    </tr>\n",
       "  </tbody>\n",
       "</table>\n",
       "<p>5 rows × 1484 columns</p>\n",
       "</div>"
      ],
      "text/plain": [
       "                  id              party  3913  3914  3915  3918  3919  3920  \\\n",
       "name             NaN                NaN     0     0     0     0     0     0   \n",
       "Pia Adelsteen    221   Dansk Folkeparti     1     3     1     1     1     1   \n",
       "Yildiz Akdogan  1619  Socialdemokratiet     1     3     2     1     1     1   \n",
       "Ida Auken        152   Radikale Venstre     1     3     4     3     3     3   \n",
       "Liselott Blixt    50   Dansk Folkeparti     1     3     1     1     1     1   \n",
       "\n",
       "                3921  3916  ...   7144  7145  7146  7147  7148  7149  7150  \\\n",
       "name               0     0  ...      0     0     0     0     0     0     0   \n",
       "Pia Adelsteen      2     2  ...      3     3     3     3     3     3     3   \n",
       "Yildiz Akdogan     1     1  ...      1     1     1     1     1     2     2   \n",
       "Ida Auken          3     4  ...      1     1     1     1     1     1     1   \n",
       "Liselott Blixt     2     2  ...      3     3     3     3     3     3     3   \n",
       "\n",
       "                7151  7152  7153  \n",
       "name               0     0     0  \n",
       "Pia Adelsteen      1     1     1  \n",
       "Yildiz Akdogan     2     1     4  \n",
       "Ida Auken          2     4     4  \n",
       "Liselott Blixt     1     1     1  \n",
       "\n",
       "[5 rows x 1484 columns]"
      ]
     },
     "execution_count": 337,
     "metadata": {},
     "output_type": "execute_result"
    }
   ],
   "source": [
    "df"
   ]
  },
  {
   "cell_type": "code",
   "execution_count": 340,
   "metadata": {
    "collapsed": false
   },
   "outputs": [
    {
     "data": {
      "text/plain": [
       "1                   552\n",
       "2                   276\n",
       "3                   257\n",
       "0                   200\n",
       "4                   197\n",
       "221                   1\n",
       "Dansk Folkeparti      1\n",
       "Name: Pia Adelsteen, dtype: int64"
      ]
     },
     "execution_count": 340,
     "metadata": {},
     "output_type": "execute_result"
    }
   ],
   "source": [
    "df.loc[\"Pia Adelsteen\"].value_counts()"
   ]
  },
  {
   "cell_type": "code",
   "execution_count": 258,
   "metadata": {
    "collapsed": false
   },
   "outputs": [],
   "source": [
    "features = df.columns[2:].values\n",
    "X = df.loc[:, features]\n",
    "Y = df.loc[:, \"party\"]"
   ]
  },
  {
   "cell_type": "code",
   "execution_count": 244,
   "metadata": {
    "collapsed": false
   },
   "outputs": [],
   "source": [
    "X = StandardScaler().fit_transform(X)"
   ]
  },
  {
   "cell_type": "code",
   "execution_count": 263,
   "metadata": {
    "collapsed": true
   },
   "outputs": [],
   "source": [
    "pca = PCA(n_components=2)\n",
    "principalComponents = pca.fit_transform(X)\n",
    "principalDf = pd.DataFrame(data=principalComponents, index=df.index, columns=[\"principal component 1\", \"principal component 2\"])"
   ]
  },
  {
   "cell_type": "code",
   "execution_count": 269,
   "metadata": {
    "collapsed": false
   },
   "outputs": [],
   "source": [
    "finalDf = pd.concat([principalDf, df[['party']]], axis = 1)"
   ]
  },
  {
   "cell_type": "code",
   "execution_count": 291,
   "metadata": {
    "collapsed": false
   },
   "outputs": [
    {
     "data": {
      "text/html": [
       "<div>\n",
       "<style scoped>\n",
       "    .dataframe tbody tr th:only-of-type {\n",
       "        vertical-align: middle;\n",
       "    }\n",
       "\n",
       "    .dataframe tbody tr th {\n",
       "        vertical-align: top;\n",
       "    }\n",
       "\n",
       "    .dataframe thead th {\n",
       "        text-align: right;\n",
       "    }\n",
       "</style>\n",
       "<table border=\"1\" class=\"dataframe\">\n",
       "  <thead>\n",
       "    <tr style=\"text-align: right;\">\n",
       "      <th></th>\n",
       "      <th>principal component 1</th>\n",
       "      <th>principal component 2</th>\n",
       "      <th>party</th>\n",
       "    </tr>\n",
       "  </thead>\n",
       "  <tbody>\n",
       "    <tr>\n",
       "      <th>name</th>\n",
       "      <td>-27.579565</td>\n",
       "      <td>-14.028230</td>\n",
       "      <td>NaN</td>\n",
       "    </tr>\n",
       "    <tr>\n",
       "      <th>Pia Adelsteen</th>\n",
       "      <td>44.141788</td>\n",
       "      <td>6.933686</td>\n",
       "      <td>Dansk Folkeparti</td>\n",
       "    </tr>\n",
       "    <tr>\n",
       "      <th>Yildiz Akdogan</th>\n",
       "      <td>33.507596</td>\n",
       "      <td>11.066603</td>\n",
       "      <td>Socialdemokratiet</td>\n",
       "    </tr>\n",
       "    <tr>\n",
       "      <th>Ida Auken</th>\n",
       "      <td>40.827361</td>\n",
       "      <td>4.895445</td>\n",
       "      <td>Radikale Venstre</td>\n",
       "    </tr>\n",
       "    <tr>\n",
       "      <th>Liselott Blixt</th>\n",
       "      <td>41.013529</td>\n",
       "      <td>11.192811</td>\n",
       "      <td>Dansk Folkeparti</td>\n",
       "    </tr>\n",
       "  </tbody>\n",
       "</table>\n",
       "</div>"
      ],
      "text/plain": [
       "                principal component 1  principal component 2  \\\n",
       "name                       -27.579565             -14.028230   \n",
       "Pia Adelsteen               44.141788               6.933686   \n",
       "Yildiz Akdogan              33.507596              11.066603   \n",
       "Ida Auken                   40.827361               4.895445   \n",
       "Liselott Blixt              41.013529              11.192811   \n",
       "\n",
       "                            party  \n",
       "name                          NaN  \n",
       "Pia Adelsteen    Dansk Folkeparti  \n",
       "Yildiz Akdogan  Socialdemokratiet  \n",
       "Ida Auken        Radikale Venstre  \n",
       "Liselott Blixt   Dansk Folkeparti  "
      ]
     },
     "execution_count": 291,
     "metadata": {},
     "output_type": "execute_result"
    }
   ],
   "source": [
    "finalDf.head()"
   ]
  },
  {
   "cell_type": "code",
   "execution_count": 296,
   "metadata": {
    "collapsed": false
   },
   "outputs": [],
   "source": [
    "parties = ['Dansk Folkeparti', 'Socialdemokratiet', 'Radikale Venstre', 'Venstre', 'Liberal Alliance', 'Socialistisk Folkeparti',\n",
    "       'Det Konservative Folkeparti', 'Enhedslisten', 'Alternativet', None]\n",
    "colors = [\"red\", \"red\", \"purple\", \"blue\", \"blue\", \"red\", \"green\", \"red\", \"red\", \"black\"]"
   ]
  },
  {
   "cell_type": "code",
   "execution_count": 334,
   "metadata": {
    "collapsed": false,
    "scrolled": false
   },
   "outputs": [
    {
     "data": {
      "image/png": "[encoded data removed]",
      "text/plain": [
       "<Figure size 1080x1080 with 1 Axes>"
      ]
     },
     "metadata": {},
     "output_type": "display_data"
    }
   ],
   "source": [
    "parties = [\"Alternativet\", \"Liberal Alliance\"]\n",
    "colors = [\"red\", \"blue\"]\n",
    "fig = plt.figure(figsize = (15,15))\n",
    "ax = fig.add_subplot(1,1,1) \n",
    "ax.set_xlabel('Principal Component 1', fontsize = 15)\n",
    "ax.set_ylabel('Principal Component 2', fontsize = 15)\n",
    "ax.set_title('2 component PCA', fontsize = 20)\n",
    "\n",
    "targets = parties\n",
    "for target, color in zip(targets,colors):\n",
    "    indicesToKeep = finalDf['party'] == target\n",
    "    x = finalDf.loc[indicesToKeep, 'principal component 1']\n",
    "    y = finalDf.loc[indicesToKeep, 'principal component 2']\n",
    "    ax.scatter(x, y, c = color, s = 50)\n",
    "\n",
    "    for i, txt in enumerate(finalDf.loc[indicesToKeep].index):\n",
    "        ax.annotate(txt, (x[i], y[i]))\n",
    "    \n",
    "#ax.set_ylim([0, 60])\n",
    "#ax.set_xlim([60, 90])\n",
    "\n",
    "ax.legend(targets)\n",
    "plt.show()"
   ]
  },
  {
   "cell_type": "code",
   "execution_count": null,
   "metadata": {
    "collapsed": true
   },
   "outputs": [],
   "source": []
  },
  {
   "cell_type": "code",
   "execution_count": null,
   "metadata": {
    "collapsed": true
   },
   "outputs": [],
   "source": []
  },
  {
   "cell_type": "code",
   "execution_count": null,
   "metadata": {
    "collapsed": true
   },
   "outputs": [],
   "source": []
  },
  {
   "cell_type": "code",
   "execution_count": null,
   "metadata": {
    "collapsed": true
   },
   "outputs": [],
   "source": []
  }
 ],
 "metadata": {
  "kernelspec": {
   "display_name": "Python 3",
   "language": "python",
   "name": "python3"
  },
  "language_info": {
   "codemirror_mode": {
    "name": "ipython",
    "version": 3
   },
   "file_extension": ".py",
   "mimetype": "text/x-python",
   "name": "python",
   "nbconvert_exporter": "python",
   "pygments_lexer": "ipython3",
   "version": "3.6.0"
  }
 },
 "nbformat": 4,
 "nbformat_minor": 2
}
